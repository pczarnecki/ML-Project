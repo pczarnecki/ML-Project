{
 "cells": [
  {
   "cell_type": "code",
   "execution_count": 1,
   "id": "aef83426",
   "metadata": {},
   "outputs": [],
   "source": [
    "import xarray as xr\n",
    "import numpy as np\n",
    "import matplotlib.pyplot as plt\n",
    "from matplotlib.colors import TwoSlopeNorm\n",
    "import scipy.constants as sp\n",
    "import random\n",
    "from sklearn.linear_model import LinearRegression\n",
    "import itertools\n",
    "from scipy.integrate import quad\n",
    "from scipy.optimize import root_scalar\n",
    "import pandas as pd\n",
    "from sklearn.model_selection import train_test_split\n",
    "from sklearn.ensemble import RandomForestRegressor\n",
    "import xgboost\n",
    "import joblib\n",
    "from sklearn.feature_selection import SelectFromModel"
   ]
  },
  {
   "cell_type": "code",
   "execution_count": 2,
   "id": "fd7eca6e",
   "metadata": {},
   "outputs": [],
   "source": [
    "# open results xr\n",
    "results = xr.open_dataset(\"results.h5\", engine = \"netcdf4\")"
   ]
  },
  {
   "cell_type": "code",
   "execution_count": 3,
   "id": "a19d8cc5",
   "metadata": {},
   "outputs": [
    {
     "name": "stdout",
     "output_type": "stream",
     "text": [
      "[(10, 6, 0), (10, 6, 5), (10, 6, 10), (10, 6, 20), (100, 6, 0), (100, 6, 5), (100, 6, 10), (100, 6, 20), (10, 10, 0), (10, 10, 5), (10, 10, 10), (10, 10, 20), (100, 10, 0), (100, 10, 5), (100, 10, 10), (100, 10, 20)]\n"
     ]
    }
   ],
   "source": [
    "# recreate coordinates for plotting\n",
    "\n",
    "tree_depth = np.array([6, 10])\n",
    "num_trees = np.array([10, 100])\n",
    "L1_reg = np.array([0, 5, 10, 20])\n",
    "\n",
    "t_list = []\n",
    "n_list = []\n",
    "l_list = []\n",
    "\n",
    "coords = []\n",
    "for t in tree_depth:\n",
    "    for n in num_trees:\n",
    "        for l in L1_reg:\n",
    "            params = (n, t, l)\n",
    "            coords.append(params)\n",
    "            t_list.append(t)\n",
    "            n_list.append(n)\n",
    "            l_list.append(l)\n",
    "\n",
    "print(coords)"
   ]
  },
  {
   "cell_type": "code",
   "execution_count": 4,
   "id": "5cb44512",
   "metadata": {},
   "outputs": [],
   "source": [
    "# separate runs with 10 trees and 100 trees in a forest\n",
    "\n",
    "trees10 = np.array([x for x, y in enumerate(coords) if y[0] == 10])\n",
    "trees100 = np.array([x for x, y in enumerate(coords) if y[0] == 100])"
   ]
  },
  {
   "cell_type": "code",
   "execution_count": 5,
   "id": "2b4bbe69",
   "metadata": {},
   "outputs": [],
   "source": [
    "# separate prediction errors and feature importance errors\n",
    "\n",
    "prediction_errors10 = results.prediction_errors.data[trees10]\n",
    "prediction_errors100 = results.prediction_errors.data[trees100]\n",
    "feature_errors10 = results.feature_errors.data[trees10]\n",
    "feature_errors100 = results.feature_errors.data[trees100]"
   ]
  },
  {
   "cell_type": "code",
   "execution_count": 4,
   "id": "29a76eaf",
   "metadata": {},
   "outputs": [],
   "source": [
    "# look at subset sizes from feature importances\n",
    "\n",
    "### TOA UP BROADBAND\n",
    "lw = xr.open_dataset(\"/dx02/robertp/CKDMIP_LBL/evaluation1/lw_fluxes/ckdmip_evaluation1_lw_fluxes_present.h5\",\n",
    "                     engine = \"netcdf4\")\n",
    "\n",
    "# Spectral flux data - fluxes per wavenumber at the TOA\n",
    "spec_fluxes = xr.open_mfdataset([\"/dx02/pc2943/spectral_fluxes_1-10.h5\", \"/dx02/pc2943/spectral_fluxes_11-20.h5\",\n",
    "                                \"/dx02/pc2943/spectral_fluxes_21-30.h5\", \"/dx02/pc2943/spectral_fluxes_31-40.h5\",\n",
    "                                \"/dx02/pc2943/spectral_fluxes_41-50.h5\"], \n",
    "                                combine = 'nested', concat_dim = 'column',\n",
    "                               engine = \"netcdf4\")\n",
    "wavenumber_coords = spec_fluxes.wavenumber.data\n",
    "\n",
    "# reference data at smaller interval should just be spectral sum over that interval, not whole atmosphere\n",
    "TOA_up_spec = spec_fluxes.spectral_flux_up_lw.isel(half_level = 0).data\n",
    "TOA_up_ref = TOA_up_spec.sum(axis = 1)\n",
    "ref = np.array([TOA_up_ref.compute()])\n",
    "ref = xr.DataArray(data = ref, dims = [\"half_level\", \"column\"], \n",
    "                  coords = dict(half_level=([\"half_level\"], np.array([0]))))\n",
    "\n",
    "TOA_up_spec = TOA_up_spec.compute() \n",
    "TOA_up_spec = np.array(TOA_up_spec)\n",
    "flux_subset = np.array([TOA_up_spec])\n",
    "flux_subset = xr.DataArray(data = flux_subset, dims = [\"half_level\", \"column\", \"wavenumber\"],\n",
    "                          coords = dict(half_level=([\"half_level\"], np.array([0])), \n",
    "                                        wavenumber=([\"wavenumber\"], wavenumber_coords)))\n",
    "\n",
    "# Tidy the data for tree\n",
    "input_data = pd.DataFrame(data=flux_subset.data[0], columns=flux_subset.wavenumber.data)\n",
    "labels = ref.data[0]\n",
    "features = np.array(input_data)\n",
    "train_features, test_features, train_labels, test_labels = train_test_split(features, labels, test_size = 0.25, random_state = 42)\n",
    "\n",
    "\n",
    "# save results\n",
    "subset_size = np.zeros(16) # hardcoded for 16\n",
    "idx = 0\n",
    "all_features = []\n",
    "\n",
    "for t in tree_depth:\n",
    "    for n in num_trees:\n",
    "        for l in L1_reg:\n",
    "            \n",
    "            # fit model with params\n",
    "            model_name = \"tree\" + str(t) + \"num\" + str(n) + \"reg\" + str(l) + \".pkl\"\n",
    "            rf = joblib.load(model_name)\n",
    "            prediction = rf.predict(test_features)\n",
    "                        \n",
    "            # find feature importances\n",
    "            feature_list = list(np.arange(0, len(flux_subset.wavenumber.data)))\n",
    "            importances = list(rf.feature_importances_)\n",
    "            feature_importances = [(feature, importance) for feature, importance in zip(feature_list, importances)]\n",
    "            feature_importances = sorted(feature_importances, key = lambda x: x[1], reverse = True)\n",
    "            feature_importances = feature_importances[:100]\n",
    "            all_features.append(feature_importances)\n",
    "            \n",
    "            # compute errors from reference calculations using most important features as representative set\n",
    "            S = np.array([a_tuple[0] for a_tuple in feature_importances if a_tuple[1] > 0.0])\n",
    "            subset_size[idx] = len(S)\n",
    "            \n",
    "            \n",
    "            # increment index\n",
    "            idx = idx + 1\n"
   ]
  },
  {
   "cell_type": "code",
   "execution_count": 42,
   "id": "b56dd9e4",
   "metadata": {},
   "outputs": [
    {
     "data": {
      "text/html": [
       "<div>\n",
       "<style scoped>\n",
       "    .dataframe tbody tr th:only-of-type {\n",
       "        vertical-align: middle;\n",
       "    }\n",
       "\n",
       "    .dataframe tbody tr th {\n",
       "        vertical-align: top;\n",
       "    }\n",
       "\n",
       "    .dataframe thead th {\n",
       "        text-align: right;\n",
       "    }\n",
       "</style>\n",
       "<table border=\"1\" class=\"dataframe\">\n",
       "  <thead>\n",
       "    <tr style=\"text-align: right;\">\n",
       "      <th></th>\n",
       "      <th>prediction_errors</th>\n",
       "      <th>feature_errors</th>\n",
       "      <th>subset_size</th>\n",
       "      <th>regularization</th>\n",
       "      <th>num_trees</th>\n",
       "      <th>tree_depth</th>\n",
       "    </tr>\n",
       "  </thead>\n",
       "  <tbody>\n",
       "    <tr>\n",
       "      <th>0</th>\n",
       "      <td>8.557889</td>\n",
       "      <td>28.684366</td>\n",
       "      <td>35.0</td>\n",
       "      <td>0</td>\n",
       "      <td>10</td>\n",
       "      <td>6</td>\n",
       "    </tr>\n",
       "    <tr>\n",
       "      <th>1</th>\n",
       "      <td>14.539801</td>\n",
       "      <td>29.722018</td>\n",
       "      <td>5.0</td>\n",
       "      <td>5</td>\n",
       "      <td>10</td>\n",
       "      <td>6</td>\n",
       "    </tr>\n",
       "    <tr>\n",
       "      <th>2</th>\n",
       "      <td>15.965839</td>\n",
       "      <td>29.722018</td>\n",
       "      <td>5.0</td>\n",
       "      <td>10</td>\n",
       "      <td>10</td>\n",
       "      <td>6</td>\n",
       "    </tr>\n",
       "    <tr>\n",
       "      <th>3</th>\n",
       "      <td>19.444283</td>\n",
       "      <td>28.261146</td>\n",
       "      <td>2.0</td>\n",
       "      <td>20</td>\n",
       "      <td>10</td>\n",
       "      <td>6</td>\n",
       "    </tr>\n",
       "    <tr>\n",
       "      <th>4</th>\n",
       "      <td>8.300762</td>\n",
       "      <td>28.684366</td>\n",
       "      <td>92.0</td>\n",
       "      <td>0</td>\n",
       "      <td>100</td>\n",
       "      <td>6</td>\n",
       "    </tr>\n",
       "    <tr>\n",
       "      <th>5</th>\n",
       "      <td>13.148032</td>\n",
       "      <td>29.668652</td>\n",
       "      <td>21.0</td>\n",
       "      <td>5</td>\n",
       "      <td>100</td>\n",
       "      <td>6</td>\n",
       "    </tr>\n",
       "    <tr>\n",
       "      <th>6</th>\n",
       "      <td>15.163395</td>\n",
       "      <td>29.724548</td>\n",
       "      <td>18.0</td>\n",
       "      <td>10</td>\n",
       "      <td>100</td>\n",
       "      <td>6</td>\n",
       "    </tr>\n",
       "    <tr>\n",
       "      <th>7</th>\n",
       "      <td>17.793360</td>\n",
       "      <td>28.261766</td>\n",
       "      <td>5.0</td>\n",
       "      <td>20</td>\n",
       "      <td>100</td>\n",
       "      <td>6</td>\n",
       "    </tr>\n",
       "    <tr>\n",
       "      <th>8</th>\n",
       "      <td>8.551609</td>\n",
       "      <td>28.684366</td>\n",
       "      <td>35.0</td>\n",
       "      <td>0</td>\n",
       "      <td>10</td>\n",
       "      <td>10</td>\n",
       "    </tr>\n",
       "    <tr>\n",
       "      <th>9</th>\n",
       "      <td>14.539801</td>\n",
       "      <td>29.722018</td>\n",
       "      <td>5.0</td>\n",
       "      <td>5</td>\n",
       "      <td>10</td>\n",
       "      <td>10</td>\n",
       "    </tr>\n",
       "    <tr>\n",
       "      <th>10</th>\n",
       "      <td>15.965839</td>\n",
       "      <td>29.722018</td>\n",
       "      <td>5.0</td>\n",
       "      <td>10</td>\n",
       "      <td>10</td>\n",
       "      <td>10</td>\n",
       "    </tr>\n",
       "    <tr>\n",
       "      <th>11</th>\n",
       "      <td>19.444283</td>\n",
       "      <td>28.261146</td>\n",
       "      <td>2.0</td>\n",
       "      <td>20</td>\n",
       "      <td>10</td>\n",
       "      <td>10</td>\n",
       "    </tr>\n",
       "    <tr>\n",
       "      <th>12</th>\n",
       "      <td>8.291745</td>\n",
       "      <td>29.508992</td>\n",
       "      <td>93.0</td>\n",
       "      <td>0</td>\n",
       "      <td>100</td>\n",
       "      <td>10</td>\n",
       "    </tr>\n",
       "    <tr>\n",
       "      <th>13</th>\n",
       "      <td>13.148032</td>\n",
       "      <td>29.668652</td>\n",
       "      <td>21.0</td>\n",
       "      <td>5</td>\n",
       "      <td>100</td>\n",
       "      <td>10</td>\n",
       "    </tr>\n",
       "    <tr>\n",
       "      <th>14</th>\n",
       "      <td>15.163395</td>\n",
       "      <td>29.724548</td>\n",
       "      <td>18.0</td>\n",
       "      <td>10</td>\n",
       "      <td>100</td>\n",
       "      <td>10</td>\n",
       "    </tr>\n",
       "    <tr>\n",
       "      <th>15</th>\n",
       "      <td>17.793360</td>\n",
       "      <td>28.261766</td>\n",
       "      <td>5.0</td>\n",
       "      <td>20</td>\n",
       "      <td>100</td>\n",
       "      <td>10</td>\n",
       "    </tr>\n",
       "  </tbody>\n",
       "</table>\n",
       "</div>"
      ],
      "text/plain": [
       "    prediction_errors  feature_errors  subset_size  regularization  num_trees  \\\n",
       "0            8.557889       28.684366         35.0               0         10   \n",
       "1           14.539801       29.722018          5.0               5         10   \n",
       "2           15.965839       29.722018          5.0              10         10   \n",
       "3           19.444283       28.261146          2.0              20         10   \n",
       "4            8.300762       28.684366         92.0               0        100   \n",
       "5           13.148032       29.668652         21.0               5        100   \n",
       "6           15.163395       29.724548         18.0              10        100   \n",
       "7           17.793360       28.261766          5.0              20        100   \n",
       "8            8.551609       28.684366         35.0               0         10   \n",
       "9           14.539801       29.722018          5.0               5         10   \n",
       "10          15.965839       29.722018          5.0              10         10   \n",
       "11          19.444283       28.261146          2.0              20         10   \n",
       "12           8.291745       29.508992         93.0               0        100   \n",
       "13          13.148032       29.668652         21.0               5        100   \n",
       "14          15.163395       29.724548         18.0              10        100   \n",
       "15          17.793360       28.261766          5.0              20        100   \n",
       "\n",
       "    tree_depth  \n",
       "0            6  \n",
       "1            6  \n",
       "2            6  \n",
       "3            6  \n",
       "4            6  \n",
       "5            6  \n",
       "6            6  \n",
       "7            6  \n",
       "8           10  \n",
       "9           10  \n",
       "10          10  \n",
       "11          10  \n",
       "12          10  \n",
       "13          10  \n",
       "14          10  \n",
       "15          10  "
      ]
     },
     "execution_count": 42,
     "metadata": {},
     "output_type": "execute_result"
    }
   ],
   "source": [
    "# create data frame for easy analysis\n",
    "\n",
    "df = pd.DataFrame(list(zip(results.prediction_errors.data, results.feature_errors.data, subset_size, l_list, n_list, t_list)), \n",
    "columns = ['prediction_errors', 'feature_errors', 'subset_size', 'regularization', 'num_trees', 'tree_depth'])\n",
    "df"
   ]
  },
  {
   "cell_type": "code",
   "execution_count": 70,
   "id": "a9fe6586",
   "metadata": {},
   "outputs": [
    {
     "name": "stdout",
     "output_type": "stream",
     "text": [
      "14.113214015960693\n",
      "29.142648959174036\n"
     ]
    }
   ],
   "source": [
    "# means for paper\n",
    "print(np.mean(df.prediction_errors.values))\n",
    "print(np.mean(df.feature_errors.values))"
   ]
  },
  {
   "cell_type": "code",
   "execution_count": 43,
   "id": "3a5da656",
   "metadata": {},
   "outputs": [],
   "source": [
    "# separate dataframe by number of trees in a forest\n",
    "\n",
    "df10 = df[df['num_trees'] == 10]\n",
    "df100 = df[df['num_trees'] == 100]"
   ]
  },
  {
   "cell_type": "code",
   "execution_count": 60,
   "id": "726a12f4",
   "metadata": {},
   "outputs": [
    {
     "data": {
      "image/png": "[encoded data removed]",
      "text/plain": [
       "<Figure size 432x288 with 1 Axes>"
      ]
     },
     "metadata": {
      "needs_background": "light"
     },
     "output_type": "display_data"
    }
   ],
   "source": [
    "# Figure TODO\n",
    "\n",
    "plt.scatter(df10.regularization.values, df10.subset_size.values)\n",
    "plt.scatter(df100.regularization.values, df100.subset_size.values)\n",
    "plt.legend([\"10 trees\", \"100 trees\"])\n",
    "plt.ylabel(\"Size of Rep. Subset\")\n",
    "plt.xlabel(\"$L_1$ Regularization Parameter\")\n",
    "plt.xticks([0, 5, 10, 20])\n",
    "plt.savefig(\"l1.png\", bbox_inches='tight', dpi=600)"
   ]
  },
  {
   "cell_type": "code",
   "execution_count": 67,
   "id": "bbcea04a",
   "metadata": {},
   "outputs": [
    {
     "data": {
      "image/png": "[encoded data removed]",
      "text/plain": [
       "<Figure size 432x288 with 1 Axes>"
      ]
     },
     "metadata": {
      "needs_background": "light"
     },
     "output_type": "display_data"
    }
   ],
   "source": [
    "# figure TODO\n",
    "x, y = df.subset_size.values, df.feature_errors.values\n",
    "m, b = np.polyfit(x, y, 1)\n",
    "plt.plot(x, m*x + b, c = 'k')\n",
    "\n",
    "plt.scatter(df.subset_size.values, df.feature_errors.values)\n",
    "plt.legend([\"line of best fit\"])\n",
    "plt.xlabel(\"Size of Rep. Subset\")\n",
    "plt.ylabel(\"Feature Error (W/m$^2$)\")\n",
    "plt.savefig(\"line.png\", bbox_inches='tight', dpi=600)"
   ]
  },
  {
   "cell_type": "code",
   "execution_count": 68,
   "id": "7744b539",
   "metadata": {},
   "outputs": [
    {
     "data": {
      "text/plain": [
       "0.00016527800930905934"
      ]
     },
     "execution_count": 68,
     "metadata": {},
     "output_type": "execute_result"
    }
   ],
   "source": [
    "m"
   ]
  },
  {
   "cell_type": "code",
   "execution_count": 45,
   "id": "37b0f45a",
   "metadata": {
    "scrolled": true
   },
   "outputs": [
    {
     "data": {
      "text/plain": [
       "array([[ 8.55788898, 14.53980064, 15.96583939, 19.44428253],\n",
       "       [ 8.55160904, 14.53980064, 15.96583939, 19.44428253]])"
      ]
     },
     "execution_count": 45,
     "metadata": {},
     "output_type": "execute_result"
    }
   ],
   "source": [
    "# create prediction value for 10 trees df\n",
    "\n",
    "data = np.array([df10[df10['tree_depth'] == 6].prediction_errors.values, \n",
    "df10[df10['tree_depth'] == 10].prediction_errors.values])\n",
    "data"
   ]
  },
  {
   "cell_type": "code",
   "execution_count": 46,
   "id": "c21f8da7",
   "metadata": {},
   "outputs": [
    {
     "name": "stdout",
     "output_type": "stream",
     "text": [
      "14.626167893409729\n"
     ]
    }
   ],
   "source": [
    "# compute mean error for paper\n",
    "\n",
    "print(np.mean(data))"
   ]
  },
  {
   "cell_type": "code",
   "execution_count": 47,
   "id": "932564f4",
   "metadata": {},
   "outputs": [
    {
     "data": {
      "image/png": "[encoded data removed]",
      "text/plain": [
       "<Figure size 432x288 with 1 Axes>"
      ]
     },
     "metadata": {
      "needs_background": "light"
     },
     "output_type": "display_data"
    }
   ],
   "source": [
    "# generate figure TODO\n",
    "\n",
    "plt.imshow(data, cmap = 'viridis')\n",
    "plt.xticks(range(len(L1_reg)), L1_reg)\n",
    "plt.yticks(range(len(tree_depth)), tree_depth)\n",
    "\n",
    "# Loop over data dimensions and create text annotations.\n",
    "for i in range(len(tree_depth)):\n",
    "    for j in range(len(L1_reg)):\n",
    "        text = plt.text(j, i, data[i, j].round(4),\n",
    "                       ha=\"center\", va=\"center\", color=\"w\", fontweight = \"bold\")\n",
    "plt.xlabel(\"$L_1$ Regularization Parameter\")\n",
    "plt.ylabel(\"Tree Depth\")\n",
    "plt.title(\"Prediction Errors for 10-Tree Forest\")\n",
    "plt.savefig(\"predict10.png\", bbox_inches='tight', dpi=600)"
   ]
  },
  {
   "cell_type": "code",
   "execution_count": 48,
   "id": "bdd50cd6",
   "metadata": {},
   "outputs": [],
   "source": [
    "# create feature importance for 10 trees df\n",
    "\n",
    "data = np.array([df10[df10['tree_depth'] == 6].feature_errors.values, \n",
    "df10[df10['tree_depth'] == 10].feature_errors.values])"
   ]
  },
  {
   "cell_type": "code",
   "execution_count": 49,
   "id": "00acfd62",
   "metadata": {},
   "outputs": [
    {
     "name": "stdout",
     "output_type": "stream",
     "text": [
      "29.097386758635043\n"
     ]
    }
   ],
   "source": [
    "# compute mean error for paper\n",
    "\n",
    "print(np.mean(data))"
   ]
  },
  {
   "cell_type": "code",
   "execution_count": 50,
   "id": "7243eb9d",
   "metadata": {},
   "outputs": [
    {
     "data": {
      "image/png": "[encoded data removed]",
      "text/plain": [
       "<Figure size 432x288 with 1 Axes>"
      ]
     },
     "metadata": {
      "needs_background": "light"
     },
     "output_type": "display_data"
    }
   ],
   "source": [
    "# generate figure TODO\n",
    "\n",
    "plt.imshow(data, cmap = 'viridis')\n",
    "plt.xticks(range(len(L1_reg)), L1_reg)\n",
    "plt.yticks(range(len(tree_depth)), tree_depth)\n",
    "\n",
    "# Loop over data dimensions and create text annotations.\n",
    "for i in range(len(tree_depth)):\n",
    "    for j in range(len(L1_reg)):\n",
    "        text = plt.text(j, i, data[i, j].round(4),\n",
    "                       ha=\"center\", va=\"center\", color=\"w\", fontweight = \"bold\")\n",
    "plt.xlabel(\"$L_1$ Regularization Parameter\")\n",
    "plt.ylabel(\"Tree Depth\")\n",
    "plt.title(\"Feature Errors for 10-Tree Forest\")\n",
    "plt.savefig(\"feature10.png\", bbox_inches='tight', dpi=600)"
   ]
  },
  {
   "cell_type": "code",
   "execution_count": 51,
   "id": "7ae40185",
   "metadata": {},
   "outputs": [],
   "source": [
    "# create prediction errors for 100 trees df\n",
    "\n",
    "data = np.array([df100[df100['tree_depth'] == 6].prediction_errors.values, \n",
    "df100[df100['tree_depth'] == 10].prediction_errors.values])"
   ]
  },
  {
   "cell_type": "code",
   "execution_count": 52,
   "id": "53d70971",
   "metadata": {},
   "outputs": [
    {
     "name": "stdout",
     "output_type": "stream",
     "text": [
      "13.600260138511658\n"
     ]
    }
   ],
   "source": [
    "# compute mean error for paper\n",
    "\n",
    "print(np.mean(data))"
   ]
  },
  {
   "cell_type": "code",
   "execution_count": 53,
   "id": "981cf68d",
   "metadata": {},
   "outputs": [
    {
     "data": {
      "image/png": "[encoded data removed]",
      "text/plain": [
       "<Figure size 432x288 with 1 Axes>"
      ]
     },
     "metadata": {
      "needs_background": "light"
     },
     "output_type": "display_data"
    }
   ],
   "source": [
    "# generate figure TODO\n",
    "\n",
    "plt.imshow(data, cmap = 'cividis')\n",
    "plt.xticks(range(len(L1_reg)), L1_reg)\n",
    "plt.yticks(range(len(tree_depth)), tree_depth)\n",
    "\n",
    "# Loop over data dimensions and create text annotations.\n",
    "for i in range(len(tree_depth)):\n",
    "    for j in range(len(L1_reg)):\n",
    "        text = plt.text(j, i, data[i, j].round(4),\n",
    "                       ha=\"center\", va=\"center\", color=\"w\", fontweight = \"bold\")\n",
    "plt.xlabel(\"$L_1$ Regularization Parameter\")\n",
    "plt.ylabel(\"Tree Depth\")\n",
    "plt.title(\"Prediction Errors for 100-Tree Forest\")\n",
    "plt.savefig(\"predict100.png\", bbox_inches='tight', dpi=600)"
   ]
  },
  {
   "cell_type": "code",
   "execution_count": 54,
   "id": "25dc0166",
   "metadata": {},
   "outputs": [],
   "source": [
    "# create feature importance for 100 trees df\n",
    "\n",
    "data = np.array([df100[df100['tree_depth'] == 6].feature_errors.values, \n",
    "df100[df100['tree_depth'] == 10].feature_errors.values])"
   ]
  },
  {
   "cell_type": "code",
   "execution_count": 55,
   "id": "1f427a49",
   "metadata": {},
   "outputs": [
    {
     "name": "stdout",
     "output_type": "stream",
     "text": [
      "29.187911159713032\n"
     ]
    }
   ],
   "source": [
    "# compute mean error for paper\n",
    "\n",
    "print(np.mean(data))"
   ]
  },
  {
   "cell_type": "code",
   "execution_count": 56,
   "id": "ab66f646",
   "metadata": {},
   "outputs": [
    {
     "data": {
      "image/png": "[encoded data removed]",
      "text/plain": [
       "<Figure size 432x288 with 1 Axes>"
      ]
     },
     "metadata": {
      "needs_background": "light"
     },
     "output_type": "display_data"
    }
   ],
   "source": [
    "# generate figure TODO\n",
    "\n",
    "plt.imshow(data, cmap = 'cividis')\n",
    "plt.xticks(range(len(L1_reg)), L1_reg)\n",
    "plt.yticks(range(len(tree_depth)), tree_depth)\n",
    "\n",
    "# Loop over data dimensions and create text annotations.\n",
    "for i in range(len(tree_depth)):\n",
    "    for j in range(len(L1_reg)):\n",
    "        text = plt.text(j, i, data[i, j].round(4),\n",
    "                       ha=\"center\", va=\"center\", color=\"w\", fontweight = \"bold\")\n",
    "plt.xlabel(\"$L_1$ Regularization Parameter\")\n",
    "plt.ylabel(\"Tree Depth\")\n",
    "plt.title(\"Feature Errors for 100-Tree Forest\")\n",
    "plt.savefig(\"feature100.png\", bbox_inches='tight', dpi=600)"
   ]
  },
  {
   "cell_type": "code",
   "execution_count": null,
   "id": "6aa33575",
   "metadata": {},
   "outputs": [],
   "source": []
  },
  {
   "cell_type": "code",
   "execution_count": null,
   "id": "53743f6b",
   "metadata": {},
   "outputs": [],
   "source": []
  }
 ],
 "metadata": {
  "kernelspec": {
   "display_name": "Python 3",
   "language": "python",
   "name": "python3"
  },
  "language_info": {
   "codemirror_mode": {
    "name": "ipython",
    "version": 3
   },
   "file_extension": ".py",
   "mimetype": "text/x-python",
   "name": "python",
   "nbconvert_exporter": "python",
   "pygments_lexer": "ipython3",
   "version": "3.6.10"
  }
 },
 "nbformat": 4,
 "nbformat_minor": 5
}
